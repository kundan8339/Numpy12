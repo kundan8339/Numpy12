{
 "cells": [
  {
   "cell_type": "code",
   "execution_count": null,
   "id": "582b1937-d40a-430e-92e5-80e35a961643",
   "metadata": {},
   "outputs": [],
   "source": [
    "Consider the below code to answer further questions:\n",
    "import numpy as np\n",
    "list_ = [ ‘1’ , ’2’ , ‘3’ , ‘4’ , ‘5’ ]\n",
    "array_list = np.array(object = list_)"
   ]
  },
  {
   "cell_type": "code",
   "execution_count": null,
   "id": "a1afdade-7d2c-4c7e-9747-5645df14f33d",
   "metadata": {},
   "outputs": [],
   "source": [
    "Q1. Is there any difference in the data type of variables list_ and array_list? If there is then write a code\n",
    "to print the data types of both the variables."
   ]
  },
  {
   "cell_type": "code",
   "execution_count": 1,
   "id": "fbdaf566-7fb4-4717-9f4c-14fabb316eb9",
   "metadata": {},
   "outputs": [],
   "source": [
    "import array"
   ]
  },
  {
   "cell_type": "code",
   "execution_count": 3,
   "id": "0ce4ccef-af56-450c-a6a1-7a2123440106",
   "metadata": {},
   "outputs": [
    {
     "name": "stdout",
     "output_type": "stream",
     "text": [
      "The data type of my_list is:<class 'list'>\n",
      "The data type of my_array_list is:<class 'array.array'>\n"
     ]
    }
   ],
   "source": [
    "my_list = [1,2,3,4,5]\n",
    "my_array_list = array.array('i',[1,2,3,4,5])\n",
    "print(f\"The data type of my_list is:{type(my_list)}\")\n",
    "print(f\"The data type of my_array_list is:{type(my_array_list)}\")"
   ]
  },
  {
   "cell_type": "code",
   "execution_count": null,
   "id": "d825e3b4-3d22-4c3d-97c0-b93c35a38eed",
   "metadata": {},
   "outputs": [],
   "source": [
    "Q2. Write a code to print the data type of each and every element of both the variables list_ and\n",
    "arra_list."
   ]
  },
  {
   "cell_type": "code",
   "execution_count": 4,
   "id": "6f298283-4735-4db7-9ff1-eaded470185b",
   "metadata": {},
   "outputs": [],
   "source": [
    "import array"
   ]
  },
  {
   "cell_type": "code",
   "execution_count": 5,
   "id": "b7c51022-f7af-4063-9043-375bb7b5b37c",
   "metadata": {},
   "outputs": [
    {
     "name": "stdout",
     "output_type": "stream",
     "text": [
      "Data types of elements in my_list:\n",
      "Element 0: <class 'int'>\n",
      "Element 1: <class 'int'>\n",
      "Element 2: <class 'int'>\n",
      "Element 3: <class 'int'>\n",
      "Element 4: <class 'int'>\n",
      "\n",
      "Data types of elements in my_array_list:\n",
      "Element 0: <class 'int'>\n",
      "Element 1: <class 'int'>\n",
      "Element 2: <class 'int'>\n",
      "Element 3: <class 'int'>\n",
      "Element 4: <class 'int'>\n",
      "\n"
     ]
    }
   ],
   "source": [
    "my_list = [1,2,3,4,5]\n",
    "my_array_list = array.array('i',[1,2,3,4,5])\n",
    "\n",
    "def print_element_types(collection,name):\n",
    "    print(f\"Data types of elements in {name}:\")\n",
    "    for i, element in enumerate(collection):\n",
    "        print(f\"Element {i}: {type(element)}\")\n",
    "    print()\n",
    "print_element_types(my_list, 'my_list')\n",
    "print_element_types(my_array_list,'my_array_list')"
   ]
  },
  {
   "cell_type": "code",
   "execution_count": null,
   "id": "56f2527b-52e7-4b02-af8a-81c32a91f247",
   "metadata": {},
   "outputs": [],
   "source": [
    "Q3. Considering the following changes in the variable, array_list:\n",
    "array_list = np.array(object = list_, dtype = int)"
   ]
  },
  {
   "cell_type": "code",
   "execution_count": null,
   "id": "d0a1d9ad-b0d0-4987-b571-f77fb8730b08",
   "metadata": {},
   "outputs": [],
   "source": [
    "array_list = np.array(object = list_, dtype = int)"
   ]
  },
  {
   "cell_type": "code",
   "execution_count": 7,
   "id": "204d08f1-8232-4fc7-98bd-7bd14acef197",
   "metadata": {},
   "outputs": [],
   "source": [
    "list_=[1.5,2.3,3.8]"
   ]
  },
  {
   "cell_type": "code",
   "execution_count": null,
   "id": "fd4f98d5-af6f-4138-8fa4-55439b82ea8d",
   "metadata": {},
   "outputs": [],
   "source": [
    "array_list = np.array(object = list_, dtype = int)"
   ]
  },
  {
   "cell_type": "markdown",
   "id": "96ccefb4-1c51-4a61-9079-2ef4302cf656",
   "metadata": {},
   "source": [
    "array([1,2,3])"
   ]
  },
  {
   "cell_type": "code",
   "execution_count": null,
   "id": "6ee80737-0e24-4c3e-8b55-ee9bfb68ce8f",
   "metadata": {},
   "outputs": [],
   "source": [
    "list_=['a','b','c']\n",
    "array_list =np.array(object=list_,dtype=int)\n",
    "ValueError:invalid literal for int() with base 10: 'a'"
   ]
  },
  {
   "cell_type": "code",
   "execution_count": null,
   "id": "8ca482c8-741e-448d-a02a-a82c7bff8818",
   "metadata": {},
   "outputs": [],
   "source": [
    "Will there be any difference in the data type of the elements present in both the variables, list_ and\n",
    "arra_list? If so then print the data types of each and every element present in both the variables, list_\n",
    "and arra_list."
   ]
  },
  {
   "cell_type": "code",
   "execution_count": null,
   "id": "b69459fb-2605-4f6e-bd94-cdf4848ad7e8",
   "metadata": {},
   "outputs": [],
   "source": [
    "Consider the below code to answer further questions:\n",
    "import numpy as np\n",
    "num_list = [ [ 1 , 2 , 3 ] , [ 4 , 5 , 6 ] ]\n",
    "num_array = np.array(object = num_list)"
   ]
  },
  {
   "cell_type": "code",
   "execution_count": 10,
   "id": "af9db944-819e-40c9-9e16-70f9f6f04264",
   "metadata": {},
   "outputs": [],
   "source": [
    "import numpy as np"
   ]
  },
  {
   "cell_type": "code",
   "execution_count": 11,
   "id": "4dc8866a-6354-4e20-aa34-bc68be4be398",
   "metadata": {},
   "outputs": [],
   "source": [
    "list_=[1,2.0,'3']"
   ]
  },
  {
   "cell_type": "code",
   "execution_count": 12,
   "id": "0d178e84-a98b-4ff2-862b-45b856943b4f",
   "metadata": {},
   "outputs": [],
   "source": [
    "array_list= np.array(object=list_, dtype=int)"
   ]
  },
  {
   "cell_type": "code",
   "execution_count": 13,
   "id": "a19c2e64-3cd5-43ba-87c8-f10cc0692fb0",
   "metadata": {},
   "outputs": [
    {
     "name": "stdout",
     "output_type": "stream",
     "text": [
      "Data type in list_:\n",
      "<class 'int'>\n",
      "<class 'float'>\n",
      "<class 'str'>\n",
      "/nData types in array_list:\n",
      "<class 'numpy.int64'>\n",
      "<class 'numpy.int64'>\n",
      "<class 'numpy.int64'>\n",
      "/nData types in num_list:\n",
      "<class 'int'>\n",
      "<class 'int'>\n",
      "<class 'int'>\n",
      "<class 'int'>\n",
      "<class 'float'>\n",
      "/nData types in num_array:\n"
     ]
    },
    {
     "name": "stderr",
     "output_type": "stream",
     "text": [
      "/tmp/ipykernel_110/719262310.py:10: VisibleDeprecationWarning: Creating an ndarray from ragged nested sequences (which is a list-or-tuple of lists-or-tuples-or ndarrays with different lengths or shapes) is deprecated. If you meant to do this, you must specify 'dtype=object' when creating the ndarray.\n",
      "  num_array = np.array(object= num_list)\n"
     ]
    },
    {
     "ename": "TypeError",
     "evalue": "Iterator operand or requested dtype holds references, but the REFS_OK flag was not enabled",
     "output_type": "error",
     "traceback": [
      "\u001b[0;31m---------------------------------------------------------------------------\u001b[0m",
      "\u001b[0;31mTypeError\u001b[0m                                 Traceback (most recent call last)",
      "Cell \u001b[0;32mIn[13], line 18\u001b[0m\n\u001b[1;32m     15\u001b[0m         \u001b[38;5;28mprint\u001b[39m(\u001b[38;5;28mtype\u001b[39m(element))\n\u001b[1;32m     17\u001b[0m \u001b[38;5;28mprint\u001b[39m(\u001b[38;5;124m\"\u001b[39m\u001b[38;5;124m/nData types in num_array:\u001b[39m\u001b[38;5;124m\"\u001b[39m)\n\u001b[0;32m---> 18\u001b[0m \u001b[38;5;28;01mfor\u001b[39;00m element \u001b[38;5;129;01min\u001b[39;00m \u001b[43mnp\u001b[49m\u001b[38;5;241;43m.\u001b[39;49m\u001b[43mnditer\u001b[49m\u001b[43m(\u001b[49m\u001b[43mnum_array\u001b[49m\u001b[43m)\u001b[49m:\n\u001b[1;32m     19\u001b[0m     \u001b[38;5;28mprint\u001b[39m(\u001b[38;5;28mtype\u001b[39m(element))\n",
      "\u001b[0;31mTypeError\u001b[0m: Iterator operand or requested dtype holds references, but the REFS_OK flag was not enabled"
     ]
    }
   ],
   "source": [
    "print(\"Data type in list_:\")\n",
    "for element in list_:\n",
    "    print(type(element))\n",
    "    \n",
    "print(\"/nData types in array_list:\")\n",
    "for element in array_list:\n",
    "    print(type(element))\n",
    "    \n",
    "num_list = [[1,2,3],[4,5.6]]\n",
    "num_array = np.array(object= num_list)\n",
    "\n",
    "print(\"/nData types in num_list:\")\n",
    "for sublist in num_list:\n",
    "    for element in sublist:\n",
    "        print(type(element))\n",
    "        \n",
    "print(\"/nData types in num_array:\")\n",
    "for element in np.nditer(num_array):\n",
    "    print(type(element))\n",
    "   \n",
    "    "
   ]
  },
  {
   "cell_type": "code",
   "execution_count": null,
   "id": "9e3795fa-e1d7-4245-a537-5f470f722004",
   "metadata": {},
   "outputs": [],
   "source": [
    "Q4. Write a code to find the following characteristics of variable, num_array:\n",
    "(i) shape\n",
    "(ii) size"
   ]
  },
  {
   "cell_type": "code",
   "execution_count": 14,
   "id": "a8e049f4-d205-457c-9f64-f4454ecc0cf1",
   "metadata": {},
   "outputs": [],
   "source": [
    "import numpy as np"
   ]
  },
  {
   "cell_type": "code",
   "execution_count": 15,
   "id": "8a669b98-99ea-4067-8658-f51cd1cc19d4",
   "metadata": {},
   "outputs": [],
   "source": [
    "num_array = np.array([[1,2,3],[4,5,6],[7,8,9]])\n"
   ]
  },
  {
   "cell_type": "code",
   "execution_count": 17,
   "id": "0773a2a9-78fc-49c6-8113-6bb09977c2f2",
   "metadata": {},
   "outputs": [],
   "source": [
    "shape=num_array.shape\n",
    "size= num_array.size"
   ]
  },
  {
   "cell_type": "code",
   "execution_count": 18,
   "id": "6e7ca809-1af2-42f4-ad82-3eb65a33cd2b",
   "metadata": {},
   "outputs": [
    {
     "name": "stdout",
     "output_type": "stream",
     "text": [
      "Shape of the array:(3, 3)\n"
     ]
    }
   ],
   "source": [
    "print(f\"Shape of the array:{shape}\")"
   ]
  },
  {
   "cell_type": "code",
   "execution_count": 19,
   "id": "955b3d12-c053-4449-b77b-7728704407a8",
   "metadata": {},
   "outputs": [
    {
     "name": "stdout",
     "output_type": "stream",
     "text": [
      "Size of the array:9\n"
     ]
    }
   ],
   "source": [
    "print(f\"Size of the array:{size}\")"
   ]
  },
  {
   "cell_type": "code",
   "execution_count": null,
   "id": "7f88cbc2-f9fd-483e-b1ba-307bfec56f0b",
   "metadata": {},
   "outputs": [],
   "source": [
    "Q5. Write a code to create numpy array of 3*3 matrix containing zeros only, using a numpy array\n",
    "creation function."
   ]
  },
  {
   "cell_type": "code",
   "execution_count": 20,
   "id": "dc7f2329-eaf1-49e3-9afa-718e6e9cb38d",
   "metadata": {},
   "outputs": [],
   "source": [
    "import numpy as np"
   ]
  },
  {
   "cell_type": "code",
   "execution_count": 21,
   "id": "804b9c1d-2cbb-48f1-8e42-87eba84d7589",
   "metadata": {},
   "outputs": [
    {
     "name": "stdout",
     "output_type": "stream",
     "text": [
      "3*3 Matrix containing zeros:\n",
      "[[0. 0. 0.]\n",
      " [0. 0. 0.]\n",
      " [0. 0. 0.]]\n"
     ]
    }
   ],
   "source": [
    "zero_matrix= np.zeros((3,3))\n",
    "print(\"3*3 Matrix containing zeros:\")\n",
    "print(zero_matrix)"
   ]
  },
  {
   "cell_type": "code",
   "execution_count": null,
   "id": "51df8d0f-bd6b-478c-9b72-b93cc06b3a1f",
   "metadata": {},
   "outputs": [],
   "source": [
    "Q6. Create an identity matrix of shape (5,5) using numpy functions?\n",
    "[Hint: An identity matrix is a matrix containing 1 diagonally and other elements will be 0.]"
   ]
  },
  {
   "cell_type": "code",
   "execution_count": 22,
   "id": "974b158b-0f41-4b3c-818e-40464fb61c3d",
   "metadata": {},
   "outputs": [],
   "source": [
    "import numpy as np"
   ]
  },
  {
   "cell_type": "code",
   "execution_count": 23,
   "id": "4f04062f-84ba-44b6-ab92-755b7d5607a1",
   "metadata": {},
   "outputs": [
    {
     "name": "stdout",
     "output_type": "stream",
     "text": [
      "5*5 Identity Matrix:\n",
      "[[1. 0. 0. 0. 0.]\n",
      " [0. 1. 0. 0. 0.]\n",
      " [0. 0. 1. 0. 0.]\n",
      " [0. 0. 0. 1. 0.]\n",
      " [0. 0. 0. 0. 1.]]\n"
     ]
    }
   ],
   "source": [
    "identity_matrix =np.identity(5)\n",
    "print(\"5*5 Identity Matrix:\")\n",
    "print(identity_matrix)\n"
   ]
  },
  {
   "cell_type": "code",
   "execution_count": 24,
   "id": "7e20cd4e-8243-43fb-a169-7d0003c4032c",
   "metadata": {},
   "outputs": [],
   "source": [
    "import numpy as np"
   ]
  },
  {
   "cell_type": "code",
   "execution_count": 25,
   "id": "a1e8b966-8a56-4136-8fa5-df9e28c6b4ae",
   "metadata": {},
   "outputs": [
    {
     "name": "stdout",
     "output_type": "stream",
     "text": [
      "5*5 Identity Matrix:\n",
      "[[1. 0. 0. 0. 0.]\n",
      " [0. 1. 0. 0. 0.]\n",
      " [0. 0. 1. 0. 0.]\n",
      " [0. 0. 0. 1. 0.]\n",
      " [0. 0. 0. 0. 1.]]\n"
     ]
    }
   ],
   "source": [
    "identity_matrix =np.eye(5)\n",
    "print(\"5*5 Identity Matrix:\")\n",
    "print(identity_matrix)\n"
   ]
  },
  {
   "cell_type": "code",
   "execution_count": null,
   "id": "ab852d02-ee10-448e-a36b-9741ec859bad",
   "metadata": {},
   "outputs": [],
   "source": []
  },
  {
   "cell_type": "code",
   "execution_count": null,
   "id": "94c961ac-c38e-433d-9731-0663e39c5e79",
   "metadata": {},
   "outputs": [],
   "source": []
  }
 ],
 "metadata": {
  "kernelspec": {
   "display_name": "Python 3 (ipykernel)",
   "language": "python",
   "name": "python3"
  },
  "language_info": {
   "codemirror_mode": {
    "name": "ipython",
    "version": 3
   },
   "file_extension": ".py",
   "mimetype": "text/x-python",
   "name": "python",
   "nbconvert_exporter": "python",
   "pygments_lexer": "ipython3",
   "version": "3.10.8"
  }
 },
 "nbformat": 4,
 "nbformat_minor": 5
}
